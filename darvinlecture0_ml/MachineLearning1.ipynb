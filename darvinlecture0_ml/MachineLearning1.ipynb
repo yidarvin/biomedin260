{
 "cells": [
  {
   "cell_type": "markdown",
   "metadata": {
    "slideshow": {
     "slide_type": "slide"
    }
   },
   "source": [
    "\n",
    "# Machine Learning I: Introduction to Machine Learning\n",
    "\n",
    "### Darvin Yi (darvinyi[at]Stanford.EDU)"
   ]
  },
  {
   "cell_type": "markdown",
   "metadata": {
    "slideshow": {
     "slide_type": "slide"
    }
   },
   "source": [
    "# Machine Learning Unit Overview\n",
    "\n",
    "- 2017/04/24: *This lecture* Intro to Machine Learning\n",
    "- 2017/04/26: Evaluation of Machine Learning\n",
    "- 2017/05/01: Vanilla Neural Networks\n",
    "- 2017/05/03: Convolutional Neural Networks\n",
    "- 2017/05/08: Current Topics in DL for Medical Images I\n",
    "- 2017/05/11: Current Topics in DL for Medical Images II"
   ]
  },
  {
   "cell_type": "markdown",
   "metadata": {
    "slideshow": {
     "slide_type": "slide"
    }
   },
   "source": [
    "# Machine Learning as Transformation\n",
    "\n",
    "- some input $\\mathbf{X}$\n",
    " - class ($C \\in \\{c_1, c_2, \\dots \\}$)\n",
    " - scalar ($x \\in \\mathbb{R}$)\n",
    " - vector ($\\mathbf{x} \\in \\mathbb{R}^p$)\n",
    " - ($\\mathbf{I} \\in \\mathbb{R}^{m\\times n}$)\n",
    "- some output $\\mathbf{Y}$\n",
    " - class ($C \\in \\{c_1, c_2, \\dots \\}$)\n",
    " - scalar ($x \\in \\mathbb{R}$)\n",
    " - vector ($\\mathbf{x} \\in \\mathbb{R}^p$)\n",
    " - ($\\mathbf{I} \\in \\mathbb{R}^{m\\times n}$)\n",
    "\n",
    "Maching Learning as a study of $\\mathbf{X} \\mapsto \\mathbf{y}$"
   ]
  },
  {
   "cell_type": "markdown",
   "metadata": {
    "collapsed": true,
    "slideshow": {
     "slide_type": "slide"
    }
   },
   "source": [
    "# Simple Linear Regression\n",
    "\n",
    "| Chirps/Sec | Temperature (F) |\n",
    "| ---------- | --------------- |\n",
    "| 20         | 88.6            |\n",
    "| 16         | 71.6            |\n",
    "| 19.8       | 93.3            |\n",
    "| 18.4       | 84.3            |\n",
    "| 17.1       | 80.6            |\n",
    "| 15.5       | 75.2            |\n",
    "| 14.7       | 69.7            |\n",
    "| 17.1       | 82              |\n",
    "| 15.4       | 69.4            |\n",
    "| 16.2       | 83.3            |\n",
    "| 15         | 79.6            |\n",
    "| 17.2       | 82.6            |\n",
    "| 16         | 80.1            |\n",
    "| 17         | 83.5            |\n",
    "| 14.4       | 76.3            |\n",
    "\n",
    "Temperature w.r.t. cricket chirps rate. [Pierce, George Washington. \"songs of insects.\" (1948).](http://agris.fao.org/agris-search/search.do?recordID=US201300661024)"
   ]
  },
  {
   "cell_type": "markdown",
   "metadata": {
    "slideshow": {
     "slide_type": "subslide"
    }
   },
   "source": [
    "# Simple Linear Regression"
   ]
  },
  {
   "cell_type": "code",
   "execution_count": 1,
   "metadata": {
    "collapsed": false
   },
   "outputs": [
    {
     "data": {
      "text/plain": [
       "<matplotlib.collections.PathCollection at 0x73f87b8>"
      ]
     },
     "execution_count": 1,
     "metadata": {},
     "output_type": "execute_result"
    },
    {
     "data": {
      "image/png": "[encoded data removed]",
      "text/plain": [
       "<matplotlib.figure.Figure at 0x7771b70>"
      ]
     },
     "metadata": {},
     "output_type": "display_data"
    }
   ],
   "source": [
    "import numpy as np\n",
    "import matplotlib.pyplot as plt\n",
    "%matplotlib inline\n",
    "\n",
    "X = np.array([20, 16, 19.8, 18.4, 17.1, 15.5, 14.7, 17.1, 15.4, 16.2, 15, 17.2, 16, 17, 14.4])\n",
    "Y = np.array([88.6, 71.6, 93.3, 84.3, 80.6, 75.2, 69.7, 82, 69.4, 83.3, 79.6, 82.6, 80.1, 83.5, 76.3])\n",
    "\n",
    "f = plt.figure()\n",
    "ax = f.add_subplot(111)\n",
    "ax.scatter(X, Y)"
   ]
  },
  {
   "cell_type": "markdown",
   "metadata": {
    "slideshow": {
     "slide_type": "subslide"
    }
   },
   "source": [
    "# Simple Linear Regression\n",
    "\n",
    "Model: $\\mathbf{Y}^{(i)} = f(\\mathbf{X}) = \\beta_0 + \\mathbf{X}^{(i)} \\beta_1$\n",
    "\n",
    "Difference: $\\Delta = \\mathbf{Y}^{(i)} - \\beta_0 - \\mathbf{X}^{(i)} \\beta_1$\n",
    "\n",
    "Cost: $\\mathcal{L} = \\sum_{i=0}^n (\\mathbf{Y}^{(i)} - \\beta_0 - \\mathbf{X}^{(i)} \\beta_1)^2$\n",
    "\n",
    "Finding Local Minima:\n",
    "$$ 0 = \\frac{\\partial \\mathcal{L}}{\\partial \\beta_1} = - 2 \\sum_{i=0}^n (\\mathbf{Y}^{(i)} - \\beta_0 - \\mathbf{X}^{(i)} \\beta_1) \\mathbf{X}^{(i)} $$\n",
    "$$ \\beta_1 = \\frac{\\sum_{i=0}^n (\\mathbf{Y}^{(i)} - \\beta_0) \\mathbf{X}^{(i)}}{\\sum_{i=0}^n (\\mathbf{X}^{(i)})^2} $$\n",
    "$$ 0 = \\frac{\\partial \\mathcal{L}}{\\partial \\beta_0} = - 2 \\sum_{i=0}^n (\\mathbf{Y}^{(i)} - \\beta_0 - \\mathbf{X}^{(i)} \\beta_1) $$\n",
    "$$ \\beta_0 = \\frac{1}{n} \\sum_{i=0}^n (\\mathbf{Y}^{(i)} - \\mathbf{X}^{(i)} \\beta_1) $$\n",
    "$$ \\beta_0 = E \\left[ \\mathbf{Y} - \\mathbf{X} \\beta_1 \\right] \\,\\, , \\,\\, \\beta_1 = \\frac{ \\sum_{i=0}^n \\mathbf{Y}^{(i)} \\mathbf{X}^{(i)} - \\frac1n \\sum_{i=0}^n \\mathbf{Y}^{(i)} \\sum_{i=0}^n \\mathbf{X}^{(i)}}{\\sum_{i=0}^n (\\mathbf{X}^{(i)})^2 - \\frac1n \\left( \\sum_{i=0}^n \\mathbf{X}^{(i)}\\right)^2} = \\frac{\\text{Cov}[\\mathbf{X}, \\mathbf{Y}]}{\\text{Var}[\\mathbf{X}]}$$"
   ]
  },
  {
   "cell_type": "markdown",
   "metadata": {
    "slideshow": {
     "slide_type": "subslide"
    }
   },
   "source": [
    "# Simple Linear Regression\n",
    "### Understanding Co-variance"
   ]
  },
  {
   "cell_type": "code",
   "execution_count": 4,
   "metadata": {
    "collapsed": false
   },
   "outputs": [
    {
     "data": {
      "text/plain": [
       "<matplotlib.collections.PathCollection at 0x7acc780>"
      ]
     },
     "execution_count": 4,
     "metadata": {},
     "output_type": "execute_result"
    },
    {
     "data": {
      "image/png": "[encoded data removed]",
      "text/plain": [
       "<matplotlib.figure.Figure at 0x711e6d8>"
      ]
     },
     "metadata": {},
     "output_type": "display_data"
    }
   ],
   "source": [
    "import matplotlib.patches as patches\n",
    "\n",
    "f,ax = plt.subplots(1,1)\n",
    "ax.scatter(X, Y)"
   ]
  },
  {
   "cell_type": "markdown",
   "metadata": {
    "slideshow": {
     "slide_type": "subslide"
    }
   },
   "source": [
    "# Simple Linear Regression\n",
    "### Understanding Co-variance"
   ]
  },
  {
   "cell_type": "code",
   "execution_count": 6,
   "metadata": {
    "collapsed": false
   },
   "outputs": [
    {
     "data": {
      "image/png": "[encoded data removed]",
      "text/plain": [
       "<matplotlib.figure.Figure at 0x87df898>"
      ]
     },
     "metadata": {},
     "output_type": "display_data"
    }
   ],
   "source": [
    "import matplotlib.patches as patches\n",
    "\n",
    "def plot_covariance(ax, X, Y):\n",
    "    for i in range(len(X)-1):\n",
    "        for j in range(i+1, len(X)):\n",
    "            if (X[j]-X[i])*(Y[j]-Y[i]) < 0:\n",
    "                ax.add_patch(patches.Rectangle((X[i], Y[i]), X[j]-X[i], Y[j]-Y[i], facecolor=\"red\", alpha=0.03))\n",
    "            else:\n",
    "                ax.add_patch(patches.Rectangle((X[i], Y[i]), X[j]-X[i], Y[j]-Y[i], alpha=0.03))\n",
    "                \n",
    "f,ax = plt.subplots(1,1)\n",
    "ax.scatter(X, Y)\n",
    "plot_covariance(ax, X, Y)"
   ]
  },
  {
   "cell_type": "markdown",
   "metadata": {},
   "source": [
    "Covariance: How much \"Blue\" is in the image."
   ]
  },
  {
   "cell_type": "markdown",
   "metadata": {
    "slideshow": {
     "slide_type": "subslide"
    }
   },
   "source": [
    "# Simple Linear Regression\n",
    "### Understanding Co-variance"
   ]
  },
  {
   "cell_type": "code",
   "execution_count": 7,
   "metadata": {
    "collapsed": false
   },
   "outputs": [
    {
     "data": {
      "image/png": "[encoded data removed]",
      "text/plain": [
       "<matplotlib.figure.Figure at 0x88ce2b0>"
      ]
     },
     "metadata": {},
     "output_type": "display_data"
    }
   ],
   "source": [
    "f,ax = plt.subplots(1,1)\n",
    "ax.scatter(X, X)\n",
    "plot_covariance(ax, X, X)"
   ]
  },
  {
   "cell_type": "markdown",
   "metadata": {},
   "source": [
    "Normalize by the variance of $\\mathbf{X}$."
   ]
  },
  {
   "cell_type": "markdown",
   "metadata": {
    "slideshow": {
     "slide_type": "subslide"
    }
   },
   "source": [
    "# Simple Linear Regression"
   ]
  },
  {
   "cell_type": "code",
   "execution_count": 8,
   "metadata": {
    "collapsed": false
   },
   "outputs": [
    {
     "data": {
      "text/plain": [
       "0"
      ]
     },
     "execution_count": 8,
     "metadata": {},
     "output_type": "execute_result"
    },
    {
     "data": {
      "image/png": "[encoded data removed]",
      "text/plain": [
       "<matplotlib.figure.Figure at 0x90b3390>"
      ]
     },
     "metadata": {},
     "output_type": "display_data"
    }
   ],
   "source": [
    "def plot_linear_regression(ax, X, Y, xmin=0, xmax=1):\n",
    "    beta1 = Y.dot(X) - np.sum(Y) * np.mean(X)\n",
    "    beta1 /= X.dot(X) - np.sum(X) * np.mean(X)\n",
    "    beta0 = np.mean(Y) - beta1 * np.mean(X)\n",
    "    x_plt = np.array([xmin, xmax])\n",
    "    y_plt = beta0 + beta1 * x_plt\n",
    "    ax.plot(x_plt, y_plt, 'r')\n",
    "    return 0\n",
    "\n",
    "f,ax = plt.subplots(1,1)\n",
    "ax.scatter(X, Y)\n",
    "plot_linear_regression(ax, X, Y, np.min(X), np.max(X))"
   ]
  },
  {
   "cell_type": "markdown",
   "metadata": {
    "slideshow": {
     "slide_type": "slide"
    }
   },
   "source": [
    "# Multivariate Linear Regression\n",
    "\n",
    "Model: $\\mathbf{Y}^{(i)} = f(\\mathbf{X}) = \\beta_0 + \\sum_{j=0}^{p} \\mathbf{X}^{(i)} \\beta_j$\n",
    "$$f: \\mathbb{R}^{p} \\stackrel{\\beta, \\beta_0}{\\to} \\mathbb{R} \\,\\, | \\,\\, \\mathbf{Y}^{(n \\times 1)} = \\beta_0 \\mathbf{1}^{(n \\times 1)} + \\mathbf{X}^{(n \\times p)} \\beta^{(p \\times 1)}$$\n",
    "\n",
    "Difference: $\\Delta = \\mathbf{Y}^{(i)} - \\beta_0 - \\mathbf{X}^{(i)} \\beta_1$\n",
    "\n",
    "Cost: $\\mathcal{L} = \\sum_{i=0}^n (\\mathbf{Y}^{(i)} - \\beta_0 - \\mathbf{X}^{(i)} \\beta_1)^2$\n",
    "\n",
    "Finding Local Minima: \n",
    "$$ 0 = \\frac{\\partial \\mathcal{L}}{\\partial \\beta_1} = - 2 \\sum_{i=0}^n (\\mathbf{Y}^{(i)} - \\beta_0 - \\mathbf{X}^{(i)} \\beta_1) \\mathbf{X}^{(i)} $$\n",
    "$$ \\beta_1 = \\frac{\\sum_{i=0}^n (\\mathbf{Y}^{(i)} - \\beta_0) \\mathbf{X}^{(i)}}{\\sum_{i=0}^n (\\mathbf{X}^{(i)})^2} $$\n",
    "$$ 0 = \\frac{\\partial \\mathcal{L}}{\\partial \\beta_0} = - 2 \\sum_{i=0}^n (\\mathbf{Y}^{(i)} - \\beta_0 - \\mathbf{X}^{(i)} \\beta_1) $$\n",
    "$$ \\beta_0 = \\frac{1}{n} \\sum_{i=0}^n (\\mathbf{Y}^{(i)} - \\mathbf{X}^{(i)} \\beta_1) $$\n",
    "$$ \\beta_0 = E \\left[ \\mathbf{Y} - \\mathbf{X} \\beta_1 \\right] \\,\\, , \\,\\, \\beta_1 = \\frac{ \\sum_{i=0}^n \\mathbf{Y}^{(i)} \\mathbf{X}^{(i)} - \\frac1n \\sum_{i=0}^n \\mathbf{Y}^{(i)} \\sum_{i=0}^n \\mathbf{X}^{(i)}}{\\sum_{i=0}^n (\\mathbf{X}^{(i)})^2 - \\frac1n \\left( \\sum_{i=0}^n \\mathbf{X}^{(i)}\\right)^2} = \\frac{\\text{Cov}[\\mathbf{X}, \\mathbf{Y}]}{\\text{Var}[\\mathbf{X}]}$$"
   ]
  },
  {
   "cell_type": "code",
   "execution_count": null,
   "metadata": {
    "collapsed": true
   },
   "outputs": [],
   "source": []
  }
 ],
 "metadata": {
  "celltoolbar": "Slideshow",
  "kernelspec": {
   "display_name": "Python 2",
   "language": "python",
   "name": "python2"
  },
  "language_info": {
   "codemirror_mode": {
    "name": "ipython",
    "version": 2
   },
   "file_extension": ".py",
   "mimetype": "text/x-python",
   "name": "python",
   "nbconvert_exporter": "python",
   "pygments_lexer": "ipython2",
   "version": "2.7.13"
  }
 },
 "nbformat": 4,
 "nbformat_minor": 2
}
