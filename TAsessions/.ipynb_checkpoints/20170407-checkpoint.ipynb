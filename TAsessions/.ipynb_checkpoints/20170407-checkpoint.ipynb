{
 "cells": [
  {
   "cell_type": "markdown",
   "metadata": {},
   "source": [
    "# Introduction to Python for Image Analysis\n",
    "\n",
    "Darvin Yi (darvinyi[at]Stanford.EDU)\n",
    "\n",
    "0. Installing python\n",
    "1. python data structures\n",
    "2. reading in images\n",
    "3. plotting\n",
    "4. introduction to dicom\n",
    "5. loops\n",
    "6. functions"
   ]
  },
  {
   "cell_type": "markdown",
   "metadata": {},
   "source": [
    "## For this course, just use anaconda.  It's very easy.\n",
    "\n",
    " [Anaconda](https://www.continuum.io/downloads) is a great platform built on top of python."
   ]
  },
  {
   "cell_type": "markdown",
   "metadata": {},
   "source": [
    "## Python data structures\n",
    "\n",
    "The main ones to know:\n",
    "1. list\n",
    "2. tuple <- like an immutable list, use as function \n",
    "3. dictionary\n",
    "4. sets"
   ]
  },
  {
   "cell_type": "code",
   "execution_count": null,
   "metadata": {
    "collapsed": false
   },
   "outputs": [],
   "source": [
    "test_list = [] #creating empty list\n",
    "print 'Empty list: ' + str(test_list)\n",
    "test_list.append('a') #adding a to the list\n",
    "print 'List with a: ' + str(test_list)\n",
    "print 'Popping a: ' + str(test_list.pop()) + ', and now the list is ' + str(test_list)"
   ]
  },
  {
   "cell_type": "code",
   "execution_count": null,
   "metadata": {
    "collapsed": false
   },
   "outputs": [],
   "source": [
    "test_list = [[1,2,3], [4,5,6], [7,8,9]] #list of lists\n",
    "print 'List of lists: ' + str(test_list)\n",
    "print 'First list in list of lists: ' + str(test_list[0])\n",
    "print 'first element of first list in list of lists: ' + str(test_list[0][0])"
   ]
  },
  {
   "cell_type": "markdown",
   "metadata": {
    "collapsed": true
   },
   "source": [
    "Tuples are like immutable lists.  You can still use it to store data, but you can't change how long it is.\n",
    "\n",
    "Dictionaries are like hash tables.  It holds (key,value) pairs.  When you give it a key, you get back a value."
   ]
  },
  {
   "cell_type": "code",
   "execution_count": null,
   "metadata": {
    "collapsed": false
   },
   "outputs": [],
   "source": [
    "test_dict = {}\n",
    "print 'Empty Dictionary: ' + str(test_dict)\n",
    "test_dict[3] = 'dog'\n",
    "test_dict[1] = 'cat'\n",
    "test_dict[0] = 'rat'\n",
    "test_dict[2] = 'pigeon'\n",
    "print 'Discount Zoo: ' + str(test_dict)"
   ]
  },
  {
   "cell_type": "code",
   "execution_count": null,
   "metadata": {
    "collapsed": false
   },
   "outputs": [],
   "source": [
    "# Let's order the zoo.\n",
    "for key in sorted(test_dict):\n",
    "    print (key, test_dict[key])"
   ]
  },
  {
   "cell_type": "markdown",
   "metadata": {},
   "source": [
    "Sets allow you to do some really cool stuff too.  You shouldn't need it for this class though.  Do look it up on your own though."
   ]
  },
  {
   "cell_type": "markdown",
   "metadata": {},
   "source": [
    "## Reading in Images\n",
    "\n",
    "For BASIC BASIC stuff, you need `numpy`, `scipy`, and `scikit-image`.\n",
    "\n",
    "You can install them with:\n",
    "\n",
    "```\n",
    "sudo pip install numpy\n",
    "sudo pip install scipy\n",
    "sudo pip install scikit-image\n",
    "```"
   ]
  },
  {
   "cell_type": "code",
   "execution_count": null,
   "metadata": {
    "collapsed": false
   },
   "outputs": [],
   "source": [
    "import numpy as np\n",
    "import scipy.misc\n",
    "\n",
    "path_img = '20170407_figures/baboon.png'\n",
    "img      = scipy.misc.imread(path_img)\n",
    "print img"
   ]
  },
  {
   "cell_type": "markdown",
   "metadata": {},
   "source": [
    "# Plotting\n",
    "\n",
    "We'll mainly be using `matplotlib.pyplot`."
   ]
  },
  {
   "cell_type": "code",
   "execution_count": null,
   "metadata": {
    "collapsed": false
   },
   "outputs": [],
   "source": [
    "import matplotlib.pyplot as plt\n",
    "%matplotlib inline\n",
    "\n",
    "plt.imshow(img)\n",
    "plt.axis('off')"
   ]
  },
  {
   "cell_type": "markdown",
   "metadata": {},
   "source": [
    "You can also change how big the plot is or how many things you want to plot."
   ]
  },
  {
   "cell_type": "code",
   "execution_count": null,
   "metadata": {
    "collapsed": false
   },
   "outputs": [],
   "source": [
    "plt.rcParams['figure.figsize'] = (12, 12)\n",
    "plt.imshow(img)\n",
    "plt.axis('off')"
   ]
  },
  {
   "cell_type": "code",
   "execution_count": null,
   "metadata": {
    "collapsed": false
   },
   "outputs": [],
   "source": [
    "fig,ax = plt.subplots(5,5)\n",
    "for i in range(5):\n",
    "    for j in range(5):\n",
    "        ax[i,j].imshow(img)\n",
    "        ax[i,j].axis('off')"
   ]
  },
  {
   "cell_type": "markdown",
   "metadata": {
    "collapsed": true
   },
   "source": [
    "You're data is stored as a numpy array.  If you've used `R` or `MATLAB`, accessing the array should feel very familiar.  If not, don't worry.  It's pretty intuitive.\n",
    "\n",
    "For a color image, you'll make a RxCx3 size image.  The third dimension being size 3 is because of the color channels."
   ]
  },
  {
   "cell_type": "markdown",
   "metadata": {},
   "source": [
    "You can access values in two ways:\n",
    "1. giving matrix coordinates\n",
    "2. giving binary matrix with same size"
   ]
  },
  {
   "cell_type": "code",
   "execution_count": null,
   "metadata": {
    "collapsed": false
   },
   "outputs": [],
   "source": [
    "# Coordinates\n",
    "img_crop = img[10:100, 5:500, :]\n",
    "plt.imshow(img_crop)"
   ]
  },
  {
   "cell_type": "code",
   "execution_count": null,
   "metadata": {
    "collapsed": false
   },
   "outputs": [],
   "source": [
    "# Binary matrix\n",
    "#Where is my image most red?\n",
    "img = img.astype(np.float32)\n",
    "img_red = (img[:,:,0] > 2*img[:,:,1]) & (img[:,:,0] > 2*img[:,:,2]) & (img[:,:,0] > 128)\n",
    "plt.cla()\n",
    "plt.imshow(img_red)"
   ]
  },
  {
   "cell_type": "code",
   "execution_count": null,
   "metadata": {
    "collapsed": false
   },
   "outputs": [],
   "source": [
    "pixels_red = img[img_red]\n",
    "_ = plt.hist(pixels_red,color=('red','green','blue'))"
   ]
  },
  {
   "cell_type": "markdown",
   "metadata": {},
   "source": [
    "## Introduction to DICOM\n",
    "\n",
    "DICOM properties:\n",
    "- .dcm files\n",
    "- has many fields (like an object)\n",
    "- holds a lot of patient data (e.g. name, DoB, doctor name, etc...)\n",
    "- holds a lot of scan information (e.g. model of scanner, angle of scan, etc...)\n",
    "- holds pixel data\n",
    "\n",
    "We can read in DICOM in Python with pydicom.  Install using\n",
    "\n",
    "```\n",
    "sudo pip install pydicom\n",
    "```\n",
    "\n",
    "Import using\n",
    "\n",
    "```\n",
    "import dicom\n",
    "```\n",
    "\n",
    "Let's take a look at the Kaggle data:\n",
    "\n",
    "![](20170407_figures/sample_data.png)\n",
    "\n",
    "And inside one of these folders is just a whole ton of \".dcm\"'s.\n",
    "\n",
    "![](20170407_figures/sample_data_2.png)\n"
   ]
  },
  {
   "cell_type": "code",
   "execution_count": null,
   "metadata": {
    "collapsed": false
   },
   "outputs": [],
   "source": [
    "import dicom\n",
    "import numpy as np\n",
    "import matplotlib.pyplot as plt\n",
    "from os import listdir\n",
    "from os.path import join\n",
    "\n",
    "%matplotlib inline\n",
    "\n",
    "# Define Filepaths <- CHANGE THIS FOR YOUR COMPUTER\n",
    "path_dcms = 'C:\\\\Users\\\\yidar\\\\Desktop\\\\kaggle_sample_data\\\\00cba091fa4ad62cc3200a657aeb957e'\n",
    "\n",
    "# Print out all the .dcm's\n",
    "list_dcms = listdir(path_dcms)\n",
    "print str(list_dcms)"
   ]
  },
  {
   "cell_type": "code",
   "execution_count": null,
   "metadata": {
    "collapsed": false
   },
   "outputs": [],
   "source": [
    "# let's just read in the first one.\n",
    "name_dcm = list_dcms[0]\n",
    "path_dcm = join(path_dcms, name_dcm)\n",
    "dcm = dicom.read_file(path_dcm)\n",
    "\n",
    "# Let's now display the image.\n",
    "img = dcm.pixel_array\n",
    "plt.rcParams['figure.figsize'] = (12, 12)\n",
    "plt.imshow(img)"
   ]
  },
  {
   "cell_type": "code",
   "execution_count": null,
   "metadata": {
    "collapsed": false
   },
   "outputs": [],
   "source": [
    "# Let's also see what's stored in the full dicom file.\n",
    "print str(dcm)"
   ]
  },
  {
   "cell_type": "markdown",
   "metadata": {},
   "source": [
    "## Using loops"
   ]
  },
  {
   "cell_type": "code",
   "execution_count": null,
   "metadata": {
    "collapsed": true
   },
   "outputs": [],
   "source": [
    "#Let's read in all the images and save the pixel data with InstanceNumber\n",
    "\n",
    "dict_dcms = {}                          #initialize dictionary for dicoms\n",
    "for name_dcm in list_dcms:              #iterate over all dicoms in folder\n",
    "    path_dcm = join(path_dcms,name_dcm) #define path of dicom image\n",
    "    dcm = dicom.read_file(path_dcm)     #read in dicom image\n",
    "    key = dcm.InstanceNumber            #save instance number as key\n",
    "    val = dcm.pixel_array               #save image as value\n",
    "    dict_dcms[key] = val                #input (key,val) into dictionary"
   ]
  },
  {
   "cell_type": "code",
   "execution_count": null,
   "metadata": {
    "collapsed": false
   },
   "outputs": [],
   "source": [
    "plt.imshow(dict_dcms[3])"
   ]
  },
  {
   "cell_type": "markdown",
   "metadata": {},
   "source": [
    "## Using Functions\n",
    "\n",
    "A better way to organize our data would be to have a single 3D array."
   ]
  },
  {
   "cell_type": "code",
   "execution_count": null,
   "metadata": {
    "collapsed": true
   },
   "outputs": [],
   "source": [
    "# Let's create a function to do this.\n",
    "\n",
    "def dict2array(dict_dcms, path_save=None):\n",
    "    \"\"\"\n",
    "    Converts a dictionary with (InstanceNumber,img) key-value pairs\n",
    "    into a 3D numpy.ndarray that has that has lower instance numbers\n",
    "    at the top and higher instance numbers at the bottom.\n",
    "    INPUTS:\n",
    "    - dict_dcms: (dictioanry) holds (InstanceNumber,img) for chestCT\n",
    "    - path_save: (string) directory to save the images.\n",
    "    OUTPUTS:\n",
    "    - volCT: (3d.array) width x height x z-axis for chestCT\n",
    "    \"\"\"\n",
    "    # Initialize the array.\n",
    "    # Get sorted indices.\n",
    "    # Loop over sorted indices to put slice into 3d.array.\n",
    "    # Return array.\n",
    "    \n",
    "    \n",
    "path_save = 'C:\\\\Users\\\\yidar\\\\Desktop\\\\temp_save'"
   ]
  }
 ],
 "metadata": {
  "kernelspec": {
   "display_name": "Python 2",
   "language": "python",
   "name": "python2"
  },
  "language_info": {
   "codemirror_mode": {
    "name": "ipython",
    "version": 2
   },
   "file_extension": ".py",
   "mimetype": "text/x-python",
   "name": "python",
   "nbconvert_exporter": "python",
   "pygments_lexer": "ipython2",
   "version": "2.7.13"
  }
 },
 "nbformat": 4,
 "nbformat_minor": 2
}
